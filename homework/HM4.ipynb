{
  "nbformat": 4,
  "nbformat_minor": 0,
  "metadata": {
    "colab": {
      "name": "HM4.ipynb",
      "provenance": [],
      "collapsed_sections": []
    },
    "kernelspec": {
      "name": "python3",
      "display_name": "Python 3"
    },
    "language_info": {
      "name": "python"
    },
    "accelerator": "GPU"
  },
  "cells": [
    {
      "cell_type": "code",
      "metadata": {
        "colab": {
          "base_uri": "https://localhost:8080/"
        },
        "id": "rwdYDCtJVTHh",
        "outputId": "1020111b-7129-4a95-ad5c-13ba9be6ccae"
      },
      "source": [
        "#import the data\n",
        "from keras.datasets import cifar10\n",
        "import numpy\n",
        "\n",
        "(x_train, y_train), (x_test, y_test) = cifar10.load_data()\n",
        "\n",
        "print('shape of x_train: ' + str(x_train.shape))\n",
        "print('shape of y_train: ' + str(y_train.shape))\n",
        "print('shape of x_test: ' + str(x_test.shape))\n",
        "print('shape of y_test: ' + str(y_test.shape))\n",
        "print('number of classes: ' + str(numpy.max(y_train) - numpy.min(y_train) + 1))"
      ],
      "execution_count": 222,
      "outputs": [
        {
          "output_type": "stream",
          "text": [
            "shape of x_train: (50000, 32, 32, 3)\n",
            "shape of y_train: (50000, 1)\n",
            "shape of x_test: (10000, 32, 32, 3)\n",
            "shape of y_test: (10000, 1)\n",
            "number of classes: 10\n"
          ],
          "name": "stdout"
        }
      ]
    },
    {
      "cell_type": "code",
      "metadata": {
        "colab": {
          "base_uri": "https://localhost:8080/"
        },
        "id": "czdUXEYaWDFH",
        "outputId": "66a937c3-e331-4f9a-b0f2-129940086d60"
      },
      "source": [
        "#Define one-hot encoding function\n",
        "\n",
        "def to_one_hot(y, num_class=10):\n",
        "    one_hot_encode = []\n",
        "    for c in y:\n",
        "        arr = numpy.zeros(num_class)\n",
        "        arr [c] = 1\n",
        "        one_hot_encode.append(arr)\n",
        "    one_hot_encode = numpy.reshape(one_hot_encode,(len(y), num_class))\n",
        "    return one_hot_encode\n",
        "\n",
        "y_train_vec = to_one_hot(y_train)\n",
        "y_test_vec = to_one_hot(y_test)\n",
        "\n",
        "print('Shape of y_train_vec: ' + str(y_train_vec.shape))\n",
        "print('Shape of y_test_vec: ' + str(y_test_vec.shape))\n",
        "\n",
        "print(y_train[0])\n",
        "print(y_train_vec[0])"
      ],
      "execution_count": 223,
      "outputs": [
        {
          "output_type": "stream",
          "text": [
            "Shape of y_train_vec: (50000, 10)\n",
            "Shape of y_test_vec: (10000, 10)\n",
            "[6]\n",
            "[0. 0. 0. 0. 0. 0. 1. 0. 0. 0.]\n"
          ],
          "name": "stdout"
        }
      ]
    },
    {
      "cell_type": "code",
      "metadata": {
        "colab": {
          "base_uri": "https://localhost:8080/"
        },
        "id": "ZhT8i-F3WP94",
        "outputId": "01223b1c-0753-40f9-982c-731b3c810ad4"
      },
      "source": [
        "#Randomly partition the training set into training and validation sets\n",
        "rand_indices = numpy.random.permutation(50000)\n",
        "train_indices = rand_indices[0:40000]\n",
        "valid_indices = rand_indices[40000:50000]\n",
        "\n",
        "x_val = x_train[valid_indices, :]\n",
        "y_val = y_train_vec[valid_indices, :]\n",
        "\n",
        "x_tr = x_train[train_indices, :]\n",
        "y_tr = y_train_vec[train_indices, :]\n",
        "\n",
        "print('Shape of x_tr: ' + str(x_tr.shape))\n",
        "print('Shape of y_tr: ' + str(y_tr.shape))\n",
        "print('Shape of x_val: ' + str(x_val.shape))\n",
        "print('Shape of y_val: ' + str(y_val.shape))"
      ],
      "execution_count": 224,
      "outputs": [
        {
          "output_type": "stream",
          "text": [
            "Shape of x_tr: (40000, 32, 32, 3)\n",
            "Shape of y_tr: (40000, 10)\n",
            "Shape of x_val: (10000, 32, 32, 3)\n",
            "Shape of y_val: (10000, 10)\n"
          ],
          "name": "stdout"
        }
      ]
    },
    {
      "cell_type": "code",
      "metadata": {
        "colab": {
          "base_uri": "https://localhost:8080/"
        },
        "id": "yNV3okQCWe4T",
        "outputId": "285b153a-e379-444e-b202-d0a86689e1c5"
      },
      "source": [
        "from keras.layers import Conv2D, MaxPooling2D, Flatten, Dense, Dropout, Activation, BatchNormalization\n",
        "from keras.models import Sequential\n",
        "\n",
        "model = Sequential()\n",
        "model.add(Conv2D(32, (3, 3), padding='same', input_shape=(32, 32, 3)))\n",
        "model.add(BatchNormalization())\n",
        "model.add(Activation ('relu'))\n",
        "model.add(MaxPooling2D((2, 2)))\n",
        "model.add(Conv2D(64, (3, 3), padding='same'))\n",
        "model.add(BatchNormalization())\n",
        "model.add(Activation ('relu'))\n",
        "model.add(MaxPooling2D((2, 2)))\n",
        "model.add(Conv2D(128, (3, 3), padding='same'))\n",
        "model.add(BatchNormalization())\n",
        "model.add(Activation ('relu'))\n",
        "model.add(MaxPooling2D((2, 2)))\n",
        "model.add(Dropout(0.2))\n",
        "model.add(Flatten())\n",
        "model.add(BatchNormalization())\n",
        "model.add(Dropout(0.2))\n",
        "model.add(Dense(128, activation='relu'))\n",
        "model.add(Dense(10, activation='softmax'))\n",
        "\n",
        "model.summary()"
      ],
      "execution_count": 226,
      "outputs": [
        {
          "output_type": "stream",
          "text": [
            "Model: \"sequential_29\"\n",
            "_________________________________________________________________\n",
            "Layer (type)                 Output Shape              Param #   \n",
            "=================================================================\n",
            "conv2d_88 (Conv2D)           (None, 32, 32, 32)        896       \n",
            "_________________________________________________________________\n",
            "batch_normalization_117 (Bat (None, 32, 32, 32)        128       \n",
            "_________________________________________________________________\n",
            "activation_88 (Activation)   (None, 32, 32, 32)        0         \n",
            "_________________________________________________________________\n",
            "max_pooling2d_88 (MaxPooling (None, 16, 16, 32)        0         \n",
            "_________________________________________________________________\n",
            "conv2d_89 (Conv2D)           (None, 16, 16, 64)        18496     \n",
            "_________________________________________________________________\n",
            "batch_normalization_118 (Bat (None, 16, 16, 64)        256       \n",
            "_________________________________________________________________\n",
            "activation_89 (Activation)   (None, 16, 16, 64)        0         \n",
            "_________________________________________________________________\n",
            "max_pooling2d_89 (MaxPooling (None, 8, 8, 64)          0         \n",
            "_________________________________________________________________\n",
            "conv2d_90 (Conv2D)           (None, 8, 8, 128)         73856     \n",
            "_________________________________________________________________\n",
            "batch_normalization_119 (Bat (None, 8, 8, 128)         512       \n",
            "_________________________________________________________________\n",
            "activation_90 (Activation)   (None, 8, 8, 128)         0         \n",
            "_________________________________________________________________\n",
            "max_pooling2d_90 (MaxPooling (None, 4, 4, 128)         0         \n",
            "_________________________________________________________________\n",
            "dropout_40 (Dropout)         (None, 4, 4, 128)         0         \n",
            "_________________________________________________________________\n",
            "flatten_29 (Flatten)         (None, 2048)              0         \n",
            "_________________________________________________________________\n",
            "batch_normalization_120 (Bat (None, 2048)              8192      \n",
            "_________________________________________________________________\n",
            "dropout_41 (Dropout)         (None, 2048)              0         \n",
            "_________________________________________________________________\n",
            "dense_58 (Dense)             (None, 128)               262272    \n",
            "_________________________________________________________________\n",
            "dense_59 (Dense)             (None, 10)                1290      \n",
            "=================================================================\n",
            "Total params: 365,898\n",
            "Trainable params: 361,354\n",
            "Non-trainable params: 4,544\n",
            "_________________________________________________________________\n"
          ],
          "name": "stdout"
        }
      ]
    },
    {
      "cell_type": "code",
      "metadata": {
        "id": "T6vX_6_KWjJZ"
      },
      "source": [
        "from keras import optimizers\n",
        "\n",
        "learning_rate = 1E-3 # to be tuned!\n",
        "\n",
        "model.compile(loss='categorical_crossentropy',\n",
        "              optimizer=optimizers.SGD(lr=learning_rate, momentum=0.9),\n",
        "              metrics=['acc'])"
      ],
      "execution_count": 227,
      "outputs": []
    },
    {
      "cell_type": "code",
      "metadata": {
        "colab": {
          "base_uri": "https://localhost:8080/"
        },
        "id": "jSrG130bWnLz",
        "outputId": "390fd24e-61de-4d38-f45b-37cfb898a6fb"
      },
      "source": [
        "history = model.fit(x_tr, y_tr, batch_size=32, epochs=30, validation_data=(x_val, y_val))"
      ],
      "execution_count": 228,
      "outputs": [
        {
          "output_type": "stream",
          "text": [
            "Epoch 1/30\n",
            "1250/1250 [==============================] - 7s 5ms/step - loss: 1.8709 - acc: 0.3654 - val_loss: 1.2774 - val_acc: 0.5489\n",
            "Epoch 2/30\n",
            "1250/1250 [==============================] - 6s 5ms/step - loss: 1.2396 - acc: 0.5545 - val_loss: 1.1369 - val_acc: 0.6035\n",
            "Epoch 3/30\n",
            "1250/1250 [==============================] - 6s 5ms/step - loss: 1.0640 - acc: 0.6210 - val_loss: 0.9648 - val_acc: 0.6636\n",
            "Epoch 4/30\n",
            "1250/1250 [==============================] - 6s 5ms/step - loss: 0.9620 - acc: 0.6579 - val_loss: 1.1476 - val_acc: 0.5984\n",
            "Epoch 5/30\n",
            "1250/1250 [==============================] - 6s 5ms/step - loss: 0.9039 - acc: 0.6787 - val_loss: 0.9304 - val_acc: 0.6725\n",
            "Epoch 6/30\n",
            "1250/1250 [==============================] - 6s 5ms/step - loss: 0.8524 - acc: 0.6954 - val_loss: 0.8705 - val_acc: 0.6915\n",
            "Epoch 7/30\n",
            "1250/1250 [==============================] - 6s 5ms/step - loss: 0.7966 - acc: 0.7161 - val_loss: 1.0652 - val_acc: 0.6407\n",
            "Epoch 8/30\n",
            "1250/1250 [==============================] - 6s 4ms/step - loss: 0.7492 - acc: 0.7338 - val_loss: 0.9164 - val_acc: 0.6838\n",
            "Epoch 9/30\n",
            "1250/1250 [==============================] - 6s 5ms/step - loss: 0.7247 - acc: 0.7406 - val_loss: 1.3957 - val_acc: 0.5650\n",
            "Epoch 10/30\n",
            "1250/1250 [==============================] - 6s 4ms/step - loss: 0.6937 - acc: 0.7565 - val_loss: 0.8233 - val_acc: 0.7130\n",
            "Epoch 11/30\n",
            "1250/1250 [==============================] - 6s 5ms/step - loss: 0.6699 - acc: 0.7602 - val_loss: 0.7965 - val_acc: 0.7303\n",
            "Epoch 12/30\n",
            "1250/1250 [==============================] - 6s 5ms/step - loss: 0.6464 - acc: 0.7667 - val_loss: 0.9243 - val_acc: 0.7059\n",
            "Epoch 13/30\n",
            "1250/1250 [==============================] - 6s 5ms/step - loss: 0.6206 - acc: 0.7792 - val_loss: 0.8566 - val_acc: 0.7133\n",
            "Epoch 14/30\n",
            "1250/1250 [==============================] - 6s 5ms/step - loss: 0.5866 - acc: 0.7919 - val_loss: 0.8075 - val_acc: 0.7304\n",
            "Epoch 15/30\n",
            "1250/1250 [==============================] - 6s 5ms/step - loss: 0.5701 - acc: 0.7980 - val_loss: 0.8592 - val_acc: 0.7127\n",
            "Epoch 16/30\n",
            "1250/1250 [==============================] - 6s 5ms/step - loss: 0.5545 - acc: 0.8039 - val_loss: 0.8638 - val_acc: 0.7142\n",
            "Epoch 17/30\n",
            "1250/1250 [==============================] - 6s 5ms/step - loss: 0.5294 - acc: 0.8109 - val_loss: 0.9314 - val_acc: 0.6974\n",
            "Epoch 18/30\n",
            "1250/1250 [==============================] - 6s 4ms/step - loss: 0.5157 - acc: 0.8139 - val_loss: 0.7586 - val_acc: 0.7458\n",
            "Epoch 19/30\n",
            "1250/1250 [==============================] - 6s 4ms/step - loss: 0.5019 - acc: 0.8223 - val_loss: 0.7089 - val_acc: 0.7614\n",
            "Epoch 20/30\n",
            "1250/1250 [==============================] - 6s 5ms/step - loss: 0.4910 - acc: 0.8245 - val_loss: 0.7414 - val_acc: 0.7535\n",
            "Epoch 21/30\n",
            "1250/1250 [==============================] - 6s 4ms/step - loss: 0.4716 - acc: 0.8300 - val_loss: 0.6713 - val_acc: 0.7771\n",
            "Epoch 22/30\n",
            "1250/1250 [==============================] - 6s 5ms/step - loss: 0.4520 - acc: 0.8386 - val_loss: 0.6625 - val_acc: 0.7802\n",
            "Epoch 23/30\n",
            "1250/1250 [==============================] - 6s 5ms/step - loss: 0.4410 - acc: 0.8402 - val_loss: 0.6982 - val_acc: 0.7750\n",
            "Epoch 24/30\n",
            "1250/1250 [==============================] - 6s 5ms/step - loss: 0.4260 - acc: 0.8494 - val_loss: 0.6910 - val_acc: 0.7731\n",
            "Epoch 25/30\n",
            "1250/1250 [==============================] - 6s 5ms/step - loss: 0.4151 - acc: 0.8522 - val_loss: 0.6657 - val_acc: 0.7850\n",
            "Epoch 26/30\n",
            "1250/1250 [==============================] - 6s 5ms/step - loss: 0.4023 - acc: 0.8572 - val_loss: 0.7170 - val_acc: 0.7700\n",
            "Epoch 27/30\n",
            "1250/1250 [==============================] - 6s 5ms/step - loss: 0.3877 - acc: 0.8600 - val_loss: 0.7705 - val_acc: 0.7521\n",
            "Epoch 28/30\n",
            "1250/1250 [==============================] - 6s 5ms/step - loss: 0.3846 - acc: 0.8624 - val_loss: 0.7458 - val_acc: 0.7633\n",
            "Epoch 29/30\n",
            "1250/1250 [==============================] - 6s 5ms/step - loss: 0.3706 - acc: 0.8684 - val_loss: 0.7791 - val_acc: 0.7583\n",
            "Epoch 30/30\n",
            "1250/1250 [==============================] - 6s 5ms/step - loss: 0.3561 - acc: 0.8726 - val_loss: 0.6574 - val_acc: 0.7907\n"
          ],
          "name": "stdout"
        }
      ]
    },
    {
      "cell_type": "code",
      "metadata": {
        "colab": {
          "base_uri": "https://localhost:8080/",
          "height": 279
        },
        "id": "7nWfjhx4WptH",
        "outputId": "1a4a5d7f-bd4c-409c-aa27-305bd8377ed8"
      },
      "source": [
        "import matplotlib.pyplot as plt\n",
        "%matplotlib inline\n",
        "\n",
        "acc = history.history['acc']\n",
        "val_acc = history.history['val_acc']\n",
        "\n",
        "epochs = range(len(acc))\n",
        "\n",
        "plt.plot(epochs, acc, 'bo', label='Training acc')\n",
        "plt.plot(epochs, val_acc, 'r', label='Validation acc')\n",
        "plt.xlabel('Epochs')\n",
        "plt.ylabel('Accuracy')\n",
        "plt.legend()\n",
        "plt.show()"
      ],
      "execution_count": 229,
      "outputs": [
        {
          "output_type": "display_data",
          "data": {
            "image/png": "[encoded data removed]",
            "text/plain": [
              "<Figure size 432x288 with 1 Axes>"
            ]
          },
          "metadata": {
            "tags": [],
            "needs_background": "light"
          }
        }
      ]
    },
    {
      "cell_type": "code",
      "metadata": {
        "colab": {
          "base_uri": "https://localhost:8080/"
        },
        "id": "0WeU-KLj82ys",
        "outputId": "151760f2-8397-4f70-ec59-37a25d9bcd74"
      },
      "source": [
        "from keras.layers import Conv2D, MaxPooling2D, Flatten, Dense, Dropout, Activation, BatchNormalization\n",
        "from keras.models import Sequential\n",
        "\n",
        "model = Sequential()\n",
        "model.add(Conv2D(32, (3, 3), padding='same', input_shape=(32, 32, 3)))\n",
        "model.add(BatchNormalization())\n",
        "model.add(Activation ('relu'))\n",
        "model.add(MaxPooling2D((2, 2)))\n",
        "model.add(Conv2D(64, (3, 3), padding='same'))\n",
        "model.add(BatchNormalization())\n",
        "model.add(Activation ('relu'))\n",
        "model.add(MaxPooling2D((2, 2)))\n",
        "model.add(Conv2D(128, (3, 3), padding='same'))\n",
        "model.add(BatchNormalization())\n",
        "model.add(Activation ('relu'))\n",
        "model.add(MaxPooling2D((2, 2)))\n",
        "model.add(Dropout(0.2))\n",
        "model.add(Flatten())\n",
        "model.add(BatchNormalization())\n",
        "model.add(Dropout(0.2))\n",
        "model.add(Dense(128, activation='relu'))\n",
        "model.add(Dense(10, activation='softmax'))\n",
        "\n",
        "model.summary()"
      ],
      "execution_count": 230,
      "outputs": [
        {
          "output_type": "stream",
          "text": [
            "Model: \"sequential_30\"\n",
            "_________________________________________________________________\n",
            "Layer (type)                 Output Shape              Param #   \n",
            "=================================================================\n",
            "conv2d_91 (Conv2D)           (None, 32, 32, 32)        896       \n",
            "_________________________________________________________________\n",
            "batch_normalization_121 (Bat (None, 32, 32, 32)        128       \n",
            "_________________________________________________________________\n",
            "activation_91 (Activation)   (None, 32, 32, 32)        0         \n",
            "_________________________________________________________________\n",
            "max_pooling2d_91 (MaxPooling (None, 16, 16, 32)        0         \n",
            "_________________________________________________________________\n",
            "conv2d_92 (Conv2D)           (None, 16, 16, 64)        18496     \n",
            "_________________________________________________________________\n",
            "batch_normalization_122 (Bat (None, 16, 16, 64)        256       \n",
            "_________________________________________________________________\n",
            "activation_92 (Activation)   (None, 16, 16, 64)        0         \n",
            "_________________________________________________________________\n",
            "max_pooling2d_92 (MaxPooling (None, 8, 8, 64)          0         \n",
            "_________________________________________________________________\n",
            "conv2d_93 (Conv2D)           (None, 8, 8, 128)         73856     \n",
            "_________________________________________________________________\n",
            "batch_normalization_123 (Bat (None, 8, 8, 128)         512       \n",
            "_________________________________________________________________\n",
            "activation_93 (Activation)   (None, 8, 8, 128)         0         \n",
            "_________________________________________________________________\n",
            "max_pooling2d_93 (MaxPooling (None, 4, 4, 128)         0         \n",
            "_________________________________________________________________\n",
            "dropout_42 (Dropout)         (None, 4, 4, 128)         0         \n",
            "_________________________________________________________________\n",
            "flatten_30 (Flatten)         (None, 2048)              0         \n",
            "_________________________________________________________________\n",
            "batch_normalization_124 (Bat (None, 2048)              8192      \n",
            "_________________________________________________________________\n",
            "dropout_43 (Dropout)         (None, 2048)              0         \n",
            "_________________________________________________________________\n",
            "dense_60 (Dense)             (None, 128)               262272    \n",
            "_________________________________________________________________\n",
            "dense_61 (Dense)             (None, 10)                1290      \n",
            "=================================================================\n",
            "Total params: 365,898\n",
            "Trainable params: 361,354\n",
            "Non-trainable params: 4,544\n",
            "_________________________________________________________________\n"
          ],
          "name": "stdout"
        }
      ]
    },
    {
      "cell_type": "code",
      "metadata": {
        "id": "dsgkQYeV8_vs"
      },
      "source": [
        "from keras import optimizers\n",
        "\n",
        "learning_rate = 1E-3 # to be tuned!\n",
        "\n",
        "model.compile(loss='categorical_crossentropy',\n",
        "              optimizer=optimizers.SGD(lr=learning_rate, momentum=0.9),\n",
        "              metrics=['acc'])"
      ],
      "execution_count": 231,
      "outputs": []
    },
    {
      "cell_type": "code",
      "metadata": {
        "colab": {
          "base_uri": "https://localhost:8080/"
        },
        "id": "IbFQtglJ9EvZ",
        "outputId": "ffed8e0f-d13a-417e-8c8c-ee34b9bab857"
      },
      "source": [
        "history1 = model.fit(x_train, y_train_vec, batch_size=32, epochs=30)"
      ],
      "execution_count": 233,
      "outputs": [
        {
          "output_type": "stream",
          "text": [
            "Epoch 1/30\n",
            "1563/1563 [==============================] - 8s 5ms/step - loss: 1.1688 - acc: 0.5840\n",
            "Epoch 2/30\n",
            "1563/1563 [==============================] - 7s 5ms/step - loss: 1.0037 - acc: 0.6435\n",
            "Epoch 3/30\n",
            "1563/1563 [==============================] - 7s 5ms/step - loss: 0.9134 - acc: 0.6769\n",
            "Epoch 4/30\n",
            "1563/1563 [==============================] - 7s 5ms/step - loss: 0.8518 - acc: 0.7001\n",
            "Epoch 5/30\n",
            "1563/1563 [==============================] - 7s 5ms/step - loss: 0.8008 - acc: 0.7179\n",
            "Epoch 6/30\n",
            "1563/1563 [==============================] - 7s 5ms/step - loss: 0.7542 - acc: 0.7350\n",
            "Epoch 7/30\n",
            "1563/1563 [==============================] - 7s 5ms/step - loss: 0.7234 - acc: 0.7441\n",
            "Epoch 8/30\n",
            "1563/1563 [==============================] - 7s 5ms/step - loss: 0.6886 - acc: 0.7572\n",
            "Epoch 9/30\n",
            "1563/1563 [==============================] - 7s 5ms/step - loss: 0.6623 - acc: 0.7667\n",
            "Epoch 10/30\n",
            "1563/1563 [==============================] - 7s 5ms/step - loss: 0.6332 - acc: 0.7762\n",
            "Epoch 11/30\n",
            "1563/1563 [==============================] - 7s 5ms/step - loss: 0.6086 - acc: 0.7880\n",
            "Epoch 12/30\n",
            "1563/1563 [==============================] - 7s 5ms/step - loss: 0.5903 - acc: 0.7913\n",
            "Epoch 13/30\n",
            "1563/1563 [==============================] - 7s 5ms/step - loss: 0.5714 - acc: 0.8002\n",
            "Epoch 14/30\n",
            "1563/1563 [==============================] - 7s 5ms/step - loss: 0.5512 - acc: 0.8061\n",
            "Epoch 15/30\n",
            "1563/1563 [==============================] - 7s 5ms/step - loss: 0.5316 - acc: 0.8129\n",
            "Epoch 16/30\n",
            "1563/1563 [==============================] - 7s 5ms/step - loss: 0.5125 - acc: 0.8182\n",
            "Epoch 17/30\n",
            "1563/1563 [==============================] - 7s 5ms/step - loss: 0.4951 - acc: 0.8239\n",
            "Epoch 18/30\n",
            "1563/1563 [==============================] - 7s 5ms/step - loss: 0.4865 - acc: 0.8270\n",
            "Epoch 19/30\n",
            "1563/1563 [==============================] - 7s 5ms/step - loss: 0.4674 - acc: 0.8345\n",
            "Epoch 20/30\n",
            "1563/1563 [==============================] - 7s 5ms/step - loss: 0.4564 - acc: 0.8371\n",
            "Epoch 21/30\n",
            "1563/1563 [==============================] - 7s 5ms/step - loss: 0.4427 - acc: 0.8418\n",
            "Epoch 22/30\n",
            "1563/1563 [==============================] - 7s 5ms/step - loss: 0.4258 - acc: 0.8477\n",
            "Epoch 23/30\n",
            "1563/1563 [==============================] - 7s 5ms/step - loss: 0.4184 - acc: 0.8516\n",
            "Epoch 24/30\n",
            "1563/1563 [==============================] - 7s 5ms/step - loss: 0.4016 - acc: 0.8561\n",
            "Epoch 25/30\n",
            "1563/1563 [==============================] - 7s 5ms/step - loss: 0.3935 - acc: 0.8600\n",
            "Epoch 26/30\n",
            "1563/1563 [==============================] - 7s 5ms/step - loss: 0.3789 - acc: 0.8651\n",
            "Epoch 27/30\n",
            "1563/1563 [==============================] - 7s 5ms/step - loss: 0.3678 - acc: 0.8700\n",
            "Epoch 28/30\n",
            "1563/1563 [==============================] - 7s 5ms/step - loss: 0.3641 - acc: 0.8716\n",
            "Epoch 29/30\n",
            "1563/1563 [==============================] - 7s 5ms/step - loss: 0.3425 - acc: 0.8765\n",
            "Epoch 30/30\n",
            "1563/1563 [==============================] - 7s 5ms/step - loss: 0.3448 - acc: 0.8750\n"
          ],
          "name": "stdout"
        }
      ]
    },
    {
      "cell_type": "code",
      "metadata": {
        "colab": {
          "base_uri": "https://localhost:8080/"
        },
        "id": "Vrv-XkPf9iKg",
        "outputId": "419de4ed-f1e9-48c6-8fee-6084136f7818"
      },
      "source": [
        "loss_and_acc = model.evaluate(x_test, y_test_vec)\n",
        "print('loss = ' + str(loss_and_acc[0]))\n",
        "print('accuracy = ' + str(loss_and_acc[1]))"
      ],
      "execution_count": 234,
      "outputs": [
        {
          "output_type": "stream",
          "text": [
            "313/313 [==============================] - 1s 3ms/step - loss: 0.7511 - acc: 0.7640\n",
            "loss = 0.751061201095581\n",
            "accuracy = 0.7639999985694885\n"
          ],
          "name": "stdout"
        }
      ]
    }
  ]
}
